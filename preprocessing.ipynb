{
 "cells": [
  {
   "cell_type": "code",
   "execution_count": 135,
   "metadata": {},
   "outputs": [],
   "source": [
    "import pandas as pd \n",
    "import matplotlib.pyplot as plt\n",
    "import seaborn as sns\n",
    "import numpy as np"
   ]
  },
  {
   "cell_type": "markdown",
   "metadata": {},
   "source": [
    "# Load Dataset"
   ]
  },
  {
   "cell_type": "code",
   "execution_count": 136,
   "metadata": {},
   "outputs": [
    {
     "data": {
      "text/html": [
       "<div>\n",
       "<style scoped>\n",
       "    .dataframe tbody tr th:only-of-type {\n",
       "        vertical-align: middle;\n",
       "    }\n",
       "\n",
       "    .dataframe tbody tr th {\n",
       "        vertical-align: top;\n",
       "    }\n",
       "\n",
       "    .dataframe thead th {\n",
       "        text-align: right;\n",
       "    }\n",
       "</style>\n",
       "<table border=\"1\" class=\"dataframe\">\n",
       "  <thead>\n",
       "    <tr style=\"text-align: right;\">\n",
       "      <th></th>\n",
       "      <th>hotel</th>\n",
       "      <th>is_canceled</th>\n",
       "      <th>lead_time</th>\n",
       "      <th>arrival_date_year</th>\n",
       "      <th>arrival_date_month</th>\n",
       "      <th>arrival_date_week_number</th>\n",
       "      <th>arrival_date_day_of_month</th>\n",
       "      <th>stays_in_weekend_nights</th>\n",
       "      <th>stays_in_week_nights</th>\n",
       "      <th>adults</th>\n",
       "      <th>...</th>\n",
       "      <th>agent</th>\n",
       "      <th>company</th>\n",
       "      <th>days_in_waiting_list</th>\n",
       "      <th>customer_type</th>\n",
       "      <th>adr</th>\n",
       "      <th>required_car_parking_spaces</th>\n",
       "      <th>total_of_special_requests</th>\n",
       "      <th>reservation_status</th>\n",
       "      <th>reservation_status_date</th>\n",
       "      <th>bookingID</th>\n",
       "    </tr>\n",
       "  </thead>\n",
       "  <tbody>\n",
       "    <tr>\n",
       "      <th>0</th>\n",
       "      <td>Crystal Cove, Barbados Barbados</td>\n",
       "      <td>0</td>\n",
       "      <td>8</td>\n",
       "      <td>2019</td>\n",
       "      <td>January</td>\n",
       "      <td>2</td>\n",
       "      <td>10</td>\n",
       "      <td>0</td>\n",
       "      <td>4</td>\n",
       "      <td>2</td>\n",
       "      <td>...</td>\n",
       "      <td>314.0</td>\n",
       "      <td>NaN</td>\n",
       "      <td>0</td>\n",
       "      <td>Transient</td>\n",
       "      <td>38.40</td>\n",
       "      <td>0</td>\n",
       "      <td>0</td>\n",
       "      <td>Check-Out</td>\n",
       "      <td>2019-01-14</td>\n",
       "      <td>1</td>\n",
       "    </tr>\n",
       "    <tr>\n",
       "      <th>1</th>\n",
       "      <td>Greensboro Courtyard Greensboro, NC</td>\n",
       "      <td>1</td>\n",
       "      <td>524</td>\n",
       "      <td>2018</td>\n",
       "      <td>December</td>\n",
       "      <td>51</td>\n",
       "      <td>15</td>\n",
       "      <td>0</td>\n",
       "      <td>2</td>\n",
       "      <td>2</td>\n",
       "      <td>...</td>\n",
       "      <td>1.0</td>\n",
       "      <td>NaN</td>\n",
       "      <td>0</td>\n",
       "      <td>Transient</td>\n",
       "      <td>62.80</td>\n",
       "      <td>0</td>\n",
       "      <td>0</td>\n",
       "      <td>Canceled</td>\n",
       "      <td>2017-10-21</td>\n",
       "      <td>2</td>\n",
       "    </tr>\n",
       "    <tr>\n",
       "      <th>2</th>\n",
       "      <td>The Westin Peachtree Plaza, Atlanta Atlanta, GA</td>\n",
       "      <td>1</td>\n",
       "      <td>175</td>\n",
       "      <td>2019</td>\n",
       "      <td>May</td>\n",
       "      <td>20</td>\n",
       "      <td>19</td>\n",
       "      <td>1</td>\n",
       "      <td>2</td>\n",
       "      <td>2</td>\n",
       "      <td>...</td>\n",
       "      <td>12.0</td>\n",
       "      <td>NaN</td>\n",
       "      <td>0</td>\n",
       "      <td>Transient</td>\n",
       "      <td>110.00</td>\n",
       "      <td>0</td>\n",
       "      <td>0</td>\n",
       "      <td>Canceled</td>\n",
       "      <td>2018-11-25</td>\n",
       "      <td>3</td>\n",
       "    </tr>\n",
       "    <tr>\n",
       "      <th>3</th>\n",
       "      <td>Courtyard by Marriott Aberdeen Airport Aberdee...</td>\n",
       "      <td>0</td>\n",
       "      <td>0</td>\n",
       "      <td>2018</td>\n",
       "      <td>October</td>\n",
       "      <td>43</td>\n",
       "      <td>17</td>\n",
       "      <td>1</td>\n",
       "      <td>0</td>\n",
       "      <td>1</td>\n",
       "      <td>...</td>\n",
       "      <td>NaN</td>\n",
       "      <td>200.0</td>\n",
       "      <td>0</td>\n",
       "      <td>Transient</td>\n",
       "      <td>45.00</td>\n",
       "      <td>0</td>\n",
       "      <td>0</td>\n",
       "      <td>Check-Out</td>\n",
       "      <td>2018-10-18</td>\n",
       "      <td>4</td>\n",
       "    </tr>\n",
       "    <tr>\n",
       "      <th>4</th>\n",
       "      <td>W New York – Union Square New York, NY</td>\n",
       "      <td>1</td>\n",
       "      <td>33</td>\n",
       "      <td>2017</td>\n",
       "      <td>September</td>\n",
       "      <td>39</td>\n",
       "      <td>26</td>\n",
       "      <td>2</td>\n",
       "      <td>3</td>\n",
       "      <td>2</td>\n",
       "      <td>...</td>\n",
       "      <td>16.0</td>\n",
       "      <td>NaN</td>\n",
       "      <td>0</td>\n",
       "      <td>Transient</td>\n",
       "      <td>57.92</td>\n",
       "      <td>0</td>\n",
       "      <td>1</td>\n",
       "      <td>Canceled</td>\n",
       "      <td>2017-08-24</td>\n",
       "      <td>5</td>\n",
       "    </tr>\n",
       "  </tbody>\n",
       "</table>\n",
       "<p>5 rows × 33 columns</p>\n",
       "</div>"
      ],
      "text/plain": [
       "                                               hotel  is_canceled  lead_time  \\\n",
       "0                    Crystal Cove, Barbados Barbados            0          8   \n",
       "1                Greensboro Courtyard Greensboro, NC            1        524   \n",
       "2   The Westin Peachtree Plaza, Atlanta Atlanta, GA             1        175   \n",
       "3  Courtyard by Marriott Aberdeen Airport Aberdee...            0          0   \n",
       "4             W New York – Union Square New York, NY            1         33   \n",
       "\n",
       "   arrival_date_year arrival_date_month  arrival_date_week_number  \\\n",
       "0               2019            January                         2   \n",
       "1               2018           December                        51   \n",
       "2               2019                May                        20   \n",
       "3               2018            October                        43   \n",
       "4               2017          September                        39   \n",
       "\n",
       "   arrival_date_day_of_month  stays_in_weekend_nights  stays_in_week_nights  \\\n",
       "0                         10                        0                     4   \n",
       "1                         15                        0                     2   \n",
       "2                         19                        1                     2   \n",
       "3                         17                        1                     0   \n",
       "4                         26                        2                     3   \n",
       "\n",
       "   adults  ...  agent  company days_in_waiting_list customer_type     adr  \\\n",
       "0       2  ...  314.0      NaN                    0     Transient   38.40   \n",
       "1       2  ...    1.0      NaN                    0     Transient   62.80   \n",
       "2       2  ...   12.0      NaN                    0     Transient  110.00   \n",
       "3       1  ...    NaN    200.0                    0     Transient   45.00   \n",
       "4       2  ...   16.0      NaN                    0     Transient   57.92   \n",
       "\n",
       "  required_car_parking_spaces  total_of_special_requests  reservation_status  \\\n",
       "0                           0                          0           Check-Out   \n",
       "1                           0                          0            Canceled   \n",
       "2                           0                          0            Canceled   \n",
       "3                           0                          0           Check-Out   \n",
       "4                           0                          1            Canceled   \n",
       "\n",
       "   reservation_status_date bookingID  \n",
       "0               2019-01-14         1  \n",
       "1               2017-10-21         2  \n",
       "2               2018-11-25         3  \n",
       "3               2018-10-18         4  \n",
       "4               2017-08-24         5  \n",
       "\n",
       "[5 rows x 33 columns]"
      ]
     },
     "execution_count": 136,
     "metadata": {},
     "output_type": "execute_result"
    }
   ],
   "source": [
    "df=pd.read_csv(r'train.csv')\n",
    "df.head(5)"
   ]
  },
  {
   "cell_type": "code",
   "execution_count": 137,
   "metadata": {},
   "outputs": [
    {
     "name": "stdout",
     "output_type": "stream",
     "text": [
      "<class 'pandas.core.frame.DataFrame'>\n",
      "RangeIndex: 83293 entries, 0 to 83292\n",
      "Data columns (total 33 columns):\n",
      " #   Column                          Non-Null Count  Dtype  \n",
      "---  ------                          --------------  -----  \n",
      " 0   hotel                           83293 non-null  object \n",
      " 1   is_canceled                     83293 non-null  int64  \n",
      " 2   lead_time                       83293 non-null  int64  \n",
      " 3   arrival_date_year               83293 non-null  int64  \n",
      " 4   arrival_date_month              83293 non-null  object \n",
      " 5   arrival_date_week_number        83293 non-null  int64  \n",
      " 6   arrival_date_day_of_month       83293 non-null  int64  \n",
      " 7   stays_in_weekend_nights         83293 non-null  int64  \n",
      " 8   stays_in_week_nights            83293 non-null  int64  \n",
      " 9   adults                          83293 non-null  int64  \n",
      " 10  children                        83290 non-null  float64\n",
      " 11  babies                          83293 non-null  int64  \n",
      " 12  meal                            83293 non-null  object \n",
      " 13  country                         82947 non-null  object \n",
      " 14  market_segment                  83293 non-null  object \n",
      " 15  distribution_channel            83293 non-null  object \n",
      " 16  is_repeated_guest               83293 non-null  int64  \n",
      " 17  previous_cancellations          83293 non-null  int64  \n",
      " 18  previous_bookings_not_canceled  83293 non-null  int64  \n",
      " 19  reserved_room_type              83293 non-null  object \n",
      " 20  assigned_room_type              83293 non-null  object \n",
      " 21  booking_changes                 83293 non-null  int64  \n",
      " 22  deposit_type                    83293 non-null  object \n",
      " 23  agent                           71889 non-null  float64\n",
      " 24  company                         4734 non-null   float64\n",
      " 25  days_in_waiting_list            83293 non-null  int64  \n",
      " 26  customer_type                   83293 non-null  object \n",
      " 27  adr                             83293 non-null  float64\n",
      " 28  required_car_parking_spaces     83293 non-null  int64  \n",
      " 29  total_of_special_requests       83293 non-null  int64  \n",
      " 30  reservation_status              83293 non-null  object \n",
      " 31  reservation_status_date         83293 non-null  object \n",
      " 32  bookingID                       83293 non-null  int64  \n",
      "dtypes: float64(4), int64(17), object(12)\n",
      "memory usage: 21.0+ MB\n"
     ]
    }
   ],
   "source": [
    "df.info()"
   ]
  },
  {
   "cell_type": "markdown",
   "metadata": {},
   "source": [
    "# Data Cleansing"
   ]
  },
  {
   "cell_type": "code",
   "execution_count": 138,
   "metadata": {},
   "outputs": [
    {
     "data": {
      "text/plain": [
       "hotel                                 0\n",
       "is_canceled                           0\n",
       "lead_time                             0\n",
       "arrival_date_year                     0\n",
       "arrival_date_month                    0\n",
       "arrival_date_week_number              0\n",
       "arrival_date_day_of_month             0\n",
       "stays_in_weekend_nights               0\n",
       "stays_in_week_nights                  0\n",
       "adults                                0\n",
       "children                              3\n",
       "babies                                0\n",
       "meal                                  0\n",
       "country                             346\n",
       "market_segment                        0\n",
       "distribution_channel                  0\n",
       "is_repeated_guest                     0\n",
       "previous_cancellations                0\n",
       "previous_bookings_not_canceled        0\n",
       "reserved_room_type                    0\n",
       "assigned_room_type                    0\n",
       "booking_changes                       0\n",
       "deposit_type                          0\n",
       "agent                             11404\n",
       "company                           78559\n",
       "days_in_waiting_list                  0\n",
       "customer_type                         0\n",
       "adr                                   0\n",
       "required_car_parking_spaces           0\n",
       "total_of_special_requests             0\n",
       "reservation_status                    0\n",
       "reservation_status_date               0\n",
       "bookingID                             0\n",
       "dtype: int64"
      ]
     },
     "execution_count": 138,
     "metadata": {},
     "output_type": "execute_result"
    }
   ],
   "source": [
    "#check missing value\n",
    "df.isnull().sum()"
   ]
  },
  {
   "cell_type": "code",
   "execution_count": 139,
   "metadata": {},
   "outputs": [
    {
     "data": {
      "image/png": "[encoded data removed]",
      "text/plain": [
       "<Figure size 640x480 with 1 Axes>"
      ]
     },
     "metadata": {},
     "output_type": "display_data"
    }
   ],
   "source": [
    "\n",
    "plt.hist(df['children'],color='#5F4B8B')\n",
    "plt.title('Distribution of Children')\n",
    "plt.xlabel('Children')\n",
    "plt.ylabel('Count')\n",
    "plt.show()"
   ]
  },
  {
   "cell_type": "code",
   "execution_count": 140,
   "metadata": {},
   "outputs": [
    {
     "data": {
      "image/png": "[encoded data removed]",
      "text/plain": [
       "<Figure size 640x480 with 1 Axes>"
      ]
     },
     "metadata": {},
     "output_type": "display_data"
    }
   ],
   "source": [
    "plt.hist(df['agent'],color='#E69A8D')\n",
    "plt.title('Distribution of Agent')\n",
    "plt.xlabel('Agent')\n",
    "plt.ylabel('Count')\n",
    "plt.show()"
   ]
  },
  {
   "cell_type": "code",
   "execution_count": 141,
   "metadata": {},
   "outputs": [],
   "source": [
    "#handing missing values\n",
    "df.drop(['company'],axis='columns',inplace=True)\n",
    "df.drop(['reservation_status'],axis='columns',inplace=True)\n",
    "df['children'].fillna(df['children'].median(),inplace=True)\n",
    "df['country'].fillna(df['country'].mode()[0],inplace=True)\n",
    "df['agent'].fillna(df['agent'].median(),inplace=True)"
   ]
  },
  {
   "cell_type": "code",
   "execution_count": 142,
   "metadata": {},
   "outputs": [],
   "source": [
    "df['reservation_status_date']=pd.to_datetime(df['reservation_status_date'])"
   ]
  },
  {
   "cell_type": "code",
   "execution_count": 143,
   "metadata": {},
   "outputs": [
    {
     "name": "stdout",
     "output_type": "stream",
     "text": [
      "<class 'pandas.core.frame.DataFrame'>\n",
      "RangeIndex: 83293 entries, 0 to 83292\n",
      "Data columns (total 31 columns):\n",
      " #   Column                          Non-Null Count  Dtype         \n",
      "---  ------                          --------------  -----         \n",
      " 0   hotel                           83293 non-null  object        \n",
      " 1   is_canceled                     83293 non-null  int64         \n",
      " 2   lead_time                       83293 non-null  int64         \n",
      " 3   arrival_date_year               83293 non-null  int64         \n",
      " 4   arrival_date_month              83293 non-null  object        \n",
      " 5   arrival_date_week_number        83293 non-null  int64         \n",
      " 6   arrival_date_day_of_month       83293 non-null  int64         \n",
      " 7   stays_in_weekend_nights         83293 non-null  int64         \n",
      " 8   stays_in_week_nights            83293 non-null  int64         \n",
      " 9   adults                          83293 non-null  int64         \n",
      " 10  children                        83293 non-null  float64       \n",
      " 11  babies                          83293 non-null  int64         \n",
      " 12  meal                            83293 non-null  object        \n",
      " 13  country                         83293 non-null  object        \n",
      " 14  market_segment                  83293 non-null  object        \n",
      " 15  distribution_channel            83293 non-null  object        \n",
      " 16  is_repeated_guest               83293 non-null  int64         \n",
      " 17  previous_cancellations          83293 non-null  int64         \n",
      " 18  previous_bookings_not_canceled  83293 non-null  int64         \n",
      " 19  reserved_room_type              83293 non-null  object        \n",
      " 20  assigned_room_type              83293 non-null  object        \n",
      " 21  booking_changes                 83293 non-null  int64         \n",
      " 22  deposit_type                    83293 non-null  object        \n",
      " 23  agent                           83293 non-null  float64       \n",
      " 24  days_in_waiting_list            83293 non-null  int64         \n",
      " 25  customer_type                   83293 non-null  object        \n",
      " 26  adr                             83293 non-null  float64       \n",
      " 27  required_car_parking_spaces     83293 non-null  int64         \n",
      " 28  total_of_special_requests       83293 non-null  int64         \n",
      " 29  reservation_status_date         83293 non-null  datetime64[ns]\n",
      " 30  bookingID                       83293 non-null  int64         \n",
      "dtypes: datetime64[ns](1), float64(3), int64(17), object(10)\n",
      "memory usage: 19.7+ MB\n"
     ]
    }
   ],
   "source": [
    "df.info()"
   ]
  },
  {
   "cell_type": "code",
   "execution_count": 144,
   "metadata": {},
   "outputs": [
    {
     "data": {
      "text/plain": [
       "0"
      ]
     },
     "execution_count": 144,
     "metadata": {},
     "output_type": "execute_result"
    }
   ],
   "source": [
    "df.duplicated().sum()"
   ]
  }
 ],
 "metadata": {
  "kernelspec": {
   "display_name": "Python 3",
   "language": "python",
   "name": "python3"
  },
  "language_info": {
   "codemirror_mode": {
    "name": "ipython",
    "version": 3
   },
   "file_extension": ".py",
   "mimetype": "text/x-python",
   "name": "python",
   "nbconvert_exporter": "python",
   "pygments_lexer": "ipython3",
   "version": "3.9.6"
  }
 },
 "nbformat": 4,
 "nbformat_minor": 2
}
